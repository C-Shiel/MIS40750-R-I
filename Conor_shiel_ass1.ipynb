{
 "cells": [
  {
   "cell_type": "code",
   "execution_count": 1,
   "metadata": {
    "collapsed": true
   },
   "outputs": [],
   "source": [
    "import sqlite3"
   ]
  },
  {
   "cell_type": "code",
   "execution_count": 2,
   "metadata": {
    "collapsed": false
   },
   "outputs": [
    {
     "data": {
      "text/plain": [
       "u'C:\\\\Users\\\\Conor\\\\Documents\\\\python'"
      ]
     },
     "execution_count": 2,
     "metadata": {},
     "output_type": "execute_result"
    }
   ],
   "source": [
    "pwd"
   ]
  },
  {
   "cell_type": "code",
   "execution_count": 3,
   "metadata": {
    "collapsed": false
   },
   "outputs": [
    {
     "name": "stdout",
     "output_type": "stream",
     "text": [
      "C:\\Users\\Conor\\Documents\n"
     ]
    }
   ],
   "source": [
    "cd .."
   ]
  },
  {
   "cell_type": "code",
   "execution_count": 4,
   "metadata": {
    "collapsed": false
   },
   "outputs": [
    {
     "name": "stdout",
     "output_type": "stream",
     "text": [
      "C:\\Users\\Conor\\Documents\\Assignment-1-\n"
     ]
    }
   ],
   "source": [
    "cd Assignment-1-/"
   ]
  },
  {
   "cell_type": "code",
   "execution_count": null,
   "metadata": {
    "collapsed": true
   },
   "outputs": [],
   "source": []
  },
  {
   "cell_type": "code",
   "execution_count": 5,
   "metadata": {
    "collapsed": true
   },
   "outputs": [],
   "source": [
    "import pandas as pd \n",
    "from math import radians, cos, sin, asin, sqrt"
   ]
  },
  {
   "cell_type": "code",
   "execution_count": null,
   "metadata": {
    "collapsed": false
   },
   "outputs": [],
   "source": []
  },
  {
   "cell_type": "code",
   "execution_count": null,
   "metadata": {
    "collapsed": false
   },
   "outputs": [],
   "source": []
  },
  {
   "cell_type": "code",
   "execution_count": 24,
   "metadata": {
    "collapsed": false
   },
   "outputs": [
    {
     "name": "stdout",
     "output_type": "stream",
     "text": [
      "[(259696.0,), (89499.0,), (271650.0,), (87606.0,), (298978.0,), (200068.0,), (60573.0,), (159794.0,), (163358.0,), (210817.0,)]\n",
      "[(7.26,), (8.99,), (8.48,), (7.95,), (6.48,), (6.68,), (7.71,), (6.92,), (6.8,), (6.69,)]\n",
      "[(52.66,), (52.86,), (54.28,), (53.42,), (52.34,), (53.22,), (52.36,), (52.84,), (53.18,), (53.66,)]\n",
      "[(52.7,), (53.33,), (52.27,)]\n",
      "[(8.63,), (6.25,), (6.39,)]\n"
     ]
    }
   ],
   "source": [
    "# Reads in the data and puts it into lists\n",
    "list_location_production = []\n",
    "list_location_lat = []\n",
    "list_location_long = []\n",
    "list_port_long = []\n",
    "list_port_lat = []\n",
    "    \n",
    "def start():\n",
    "    conn = sqlite3.connect('renewable.db')# creates connection \n",
    "    c = conn.cursor()\n",
    "    \n",
    "    \n",
    "    h = c.execute(\"SELECT production FROM location\")\n",
    "    for i in h:\n",
    "        list_location_production.append(i)\n",
    "    for i in c.execute(\"SELECT lat FROM location;\"):\n",
    "        list_location_lat.append(i)\n",
    "    for i in c.execute(\"SELECT long FROM location;\"):\n",
    "        list_location_long.append(i)\n",
    "    \n",
    "    for i in c.execute(\"SELECT long FROM ports\"):\n",
    "        list_port_long.append(i)\n",
    "    for i in c.execute(\"SELECT lat FROM ports\"):\n",
    "        list_port_lat.append(i)\n",
    "    \n",
    "    \n",
    "    print list_location_production\n",
    "    print list_location_lat\n",
    "    print list_location_long\n",
    "    print list_port_long\n",
    "    print list_port_lat\n",
    "    \n",
    "    \n",
    "    \n",
    "start()\n",
    "    \n",
    "    "
   ]
  },
  {
   "cell_type": "code",
   "execution_count": 28,
   "metadata": {
    "collapsed": false
   },
   "outputs": [],
   "source": [
    "#Putting lists into float form.\n",
    "\n",
    "list_location_production=[259696.0, 89499.0, 271650.0, 87606.0, 298978.0, 200068.0, 60573.0, 159794.0, 163358.0,210817.0]\n",
    "list_location_long=[52.66,52.86, 54.28, 53.42, 52.34, 53.22, 52.36, 52.84, 53.18, 53.66]\n",
    "list_location_lat=[7.26, 8.99, 8.48, 7.95, 6.48, 6.68, 7.71, 6.92, 6.8, 6.69]\n",
    "list_port_long=[52.7,53.33,52.27]\n",
    "list_port_lat=[8.63,6.25,6.39]\n",
    "\n"
   ]
  },
  {
   "cell_type": "code",
   "execution_count": 30,
   "metadata": {
    "collapsed": false
   },
   "outputs": [
    {
     "name": "stdout",
     "output_type": "stream",
     "text": [
      "{0: 6492.4, 1: 2237.475, 2: 6791.25, 3: 2190.15, 4: 7474.45, 5: 5001.7, 6: 1514.325, 7: 3994.85, 8: 4083.95, 9: 5270.425}\n"
     ]
    }
   ],
   "source": [
    "#Converts the production of the locations to number of trips that must be made by them.\n",
    "#Then adds the number of trips to its key value in a dictionary\n",
    "trips=[]\n",
    "for i in list_location_production:\n",
    "    result = i/40\n",
    "    trips.append(result)\n",
    "num = [0,1,2,3,4,5,6,7,8,9]\n",
    "trips_1 = dict(zip(num,trips))\n",
    "print trips_1\n",
    "    "
   ]
  },
  {
   "cell_type": "code",
   "execution_count": 32,
   "metadata": {
    "collapsed": false
   },
   "outputs": [
    {
     "name": "stdout",
     "output_type": "stream",
     "text": [
      "\n",
      "\n"
     ]
    }
   ],
   "source": [
    "#haversine formula to calculate the distance between to geographical points\n",
    "#Taken from http://stackoverflow.com/questions/4913349/haversine-formula-in-python-bearing-and-distance-between-two-gps-points\n",
    "def length_km(lon1, lat1, lon2, lat2):  \n",
    "    \n",
    "     \n",
    "    lon1, lat1, lon2, lat2 = map(radians, [lon1, lat1, lon2, lat2]) #convert decimal degrees to radians \n",
    "    # haversine formula \n",
    "    dlon = lon2 - lon1 #difference in longitudes\n",
    "    dlat = lat2 - lat1 #difference in latitude\n",
    "    a = sin(dlat/2)**2 + cos(lat1) * cos(lat2) * sin(dlon/2)**2\n",
    "    c = 2 * asin(sqrt(a)) \n",
    "    km = 6367 * c\n",
    "    return \"%0.2lf\" % km\n",
    "\n",
    "print \"\\n\""
   ]
  },
  {
   "cell_type": "code",
   "execution_count": 61,
   "metadata": {
    "collapsed": false
   },
   "outputs": [
    {
     "name": "stdout",
     "output_type": "stream",
     "text": [
      "0:  ['152.31', '134.40', '105.82']\n",
      "1: ['43.69', '308.85', '296.14']\n",
      "2:  ['174.42', '269.02', '320.92']\n",
      "3: ['109.45', '189.17', '214.77']\n",
      "4:  ['242.19', '112.28', '12.64']\n",
      "5: ['224.13', '49.30', '109.72']\n",
      "6: ['108.86', '194.34', '147.02']\n",
      "7: ['190.65', '92.03', '86.18']\n",
      "8: ['210.12', '63.32', '110.30']\n",
      "9: ['240.11', '60.98', '157.04']\n"
     ]
    }
   ],
   "source": [
    "# The distance from a location to all of the ports. \n",
    "\n",
    "location_0_ports_dist=[] \n",
    "location_1_ports_dist=[]\n",
    "location_2_ports_dist=[]\n",
    "location_3_ports_dist=[]\n",
    "location_4_ports_dist=[]\n",
    "location_5_ports_dist=[]\n",
    "location_6_ports_dist=[]\n",
    "location_7_ports_dist=[]\n",
    "location_8_ports_dist=[]\n",
    "location_9_ports_dist=[]\n",
    "\n",
    "for i in range(0,3):\n",
    "        location_0_ports_dist.append(length_km(list_location_long[0],list_location_lat[0],list_port_long[i],list_port_lat[i]))\n",
    "\n",
    "for i in range(0,3):\n",
    "        location_1_ports_dist.append(length_km(list_location_long[1],list_location_lat[1],list_port_long[i],list_port_lat[i]))\n",
    "\n",
    "for i in range(0,3):\n",
    "        location_2_ports_dist.append(length_km(list_location_long[2],list_location_lat[2],list_port_long[i],list_port_lat[i]))\n",
    "\n",
    "for i in range(0,3):\n",
    "        location_3_ports_dist.append(length_km(list_location_long[3],list_location_lat[3],list_port_long[i],list_port_lat[i]))\n",
    "\n",
    "for i in range(0,3):\n",
    "        location_4_ports_dist.append(length_km(list_location_long[4],list_location_lat[4],list_port_long[i],list_port_lat[i]))\n",
    "\n",
    "for i in range(0,3):\n",
    "        location_5_ports_dist.append(length_km(list_location_long[5],list_location_lat[5],list_port_long[i],list_port_lat[i]))\n",
    "\n",
    "for i in range(0,3):\n",
    "        location_6_ports_dist.append(length_km(list_location_long[6],list_location_lat[6],list_port_long[i],list_port_lat[i]))\n",
    "\n",
    "for i in range(0,3):\n",
    "        location_7_ports_dist.append(length_km(list_location_long[7],list_location_lat[7],list_port_long[i],list_port_lat[i]))\n",
    "\n",
    "for i in range(0,3):\n",
    "        location_8_ports_dist.append(length_km(list_location_long[8],list_location_lat[8],list_port_long[i],list_port_lat[i]))\n",
    "\n",
    "for i in range(0,3):\n",
    "        location_9_ports_dist.append(length_km(list_location_long[9],list_location_lat[9],list_port_long[i],list_port_lat[i]))\n",
    "\n",
    "\n",
    "\n",
    "print \"0: \",location_0_ports_dist \n",
    "print \"1:\",location_1_ports_dist\n",
    "print \"2: \", location_2_ports_dist\n",
    "print \"3:\", location_3_ports_dist\n",
    "print \"4: \", location_4_ports_dist\n",
    "print \"5:\" , location_5_ports_dist\n",
    "print \"6:\" , location_6_ports_dist\n",
    "print \"7:\" , location_7_ports_dist\n",
    "print \"8:\" , location_8_ports_dist\n",
    "print \"9:\" , location_9_ports_dist"
   ]
  },
  {
   "cell_type": "code",
   "execution_count": 53,
   "metadata": {
    "collapsed": false
   },
   "outputs": [
    {
     "name": "stdout",
     "output_type": "stream",
     "text": [
      "dist to 0 {1: '193.50', 2: '224.01', 3: '113.52', 4: '93.59', 5: '89.27', 6: '59.94', 7: '42.68', 8: '76.83', 9: '127.20'}\n",
      "dist to 1 {0: '193.50', 2: '165.94', 3: '130.94', 4: '284.74', 5: '259.74', 6: '152.49', 7: '230.04', 8: '245.90', 9: '270.33'}\n",
      "dist to 2 {0: '224.01', 1: '165.94', 3: '111.42', 4: '308.35', 5: '231.61', 6: '227.91', 7: '234.94', 8: '222.55', 9: '210.31'}\n",
      "dist to 3 {0: '113.52', 1: '130.94', 2: '111.42', 4: '202.14', 5: '142.84', 6: '119.70', 7: '131.09', 8: '130.50', 9: '142.49'}\n",
      "dist to 4 {0: '93.59', 1: '284.74', 2: '308.35', 3: '202.14', 5: '99.66', 6: '136.70', 7: '73.73', 8: '99.30', 9: '147.57'}\n",
      "dist to 5 {0: '89.27', 1: '259.74', 2: '231.61', 3: '142.84', 4: '99.66', 6: '148.63', 7: '49.69', 8: '14.05', 9: '48.58'}\n",
      "dist to 6 {0: '59.94', 1: '152.49', 2: '227.91', 3: '119.70', 4: '136.70', 5: '148.63', 7: '102.50', 8: '135.63', 9: '182.73'}\n",
      " dist to 7 {0: '42.68', 1: '230.04', 2: '234.94', 3: '131.09', 4: '73.73', 5: '49.69', 6: '102.50', 8: '39.81', 9: '94.02'}\n",
      "dist to 8  {0: '76.83', 1: '245.90', 2: '222.55', 3: '130.50', 4: '99.30', 5: '14.05', 6: '135.63', 7: '39.81', 9: '54.36'}\n",
      " dist to 9 {0: '127.20', 1: '270.33', 2: '210.31', 3: '142.49', 4: '147.57', 5: '48.58', 6: '182.73', 7: '94.02', 8: '54.36'}\n"
     ]
    }
   ],
   "source": [
    "# The distance from the locations to the other loactions.\n",
    "# Then each one added to a dictionary \n",
    "\n",
    "location_0_location= []\n",
    "location_1_location= []\n",
    "location_2_location= []\n",
    "location_3_location= []\n",
    "location_4_location= []\n",
    "location_5_location= []\n",
    "location_6_location= []\n",
    "location_7_location= []\n",
    "location_8_location= []\n",
    "location_9_location= []\n",
    "\n",
    "zero= [1,2,3,4,5,6,7,8,9]\n",
    "one = [0,2,3,4,5,6,7,8,9]\n",
    "two = [0,1,3,4,5,6,7,8,9]\n",
    "three = [0,1,2,4,5,6,7,8,9]\n",
    "four = [0,1,2,3,5,6,7,8,9]\n",
    "five = [0,1,2,3,4,6,7,8,9]\n",
    "six = [0,1,2,3,4,5,7,8,9]\n",
    "seven = [0,1,2,3,4,5,6,8,9]\n",
    "eight = [0,1,2,3,4,5,6,7,9]\n",
    "nine = [0,1,2,3,4,5,6,7,8]\n",
    "\n",
    "\n",
    "\n",
    "for i in range(0,10):\n",
    "    if i !=0:\n",
    "        location_0_location.append(length_km(list_location_long[0],list_location_lat[0],list_location_long[i],list_location_lat[i]))\n",
    "\n",
    "\n",
    "for i in range(0,10):\n",
    "    if i !=1:\n",
    "        location_1_location.append(length_km(list_location_long[1],list_location_lat[1],list_location_long[i],list_location_lat[i]))\n",
    "\n",
    "\n",
    "                       \n",
    "\n",
    "for i in range(0,10):\n",
    "    if i !=2:\n",
    "        location_2_location.append(length_km(list_location_long[2],list_location_lat[2],list_location_long[i],list_location_lat[i]))\n",
    "        \n",
    "                       \n",
    "                       \n",
    "\n",
    "for i in range(0,10):\n",
    "    if i !=3:\n",
    "        location_3_location.append(length_km(list_location_long[3],list_location_lat[3],list_location_long[i],list_location_lat[i]))\n",
    "\n",
    "\n",
    "\n",
    "location_4_location=[]\n",
    "for i in range(0,10):\n",
    "    if i !=4:\n",
    "        location_4_location.append(length_km(list_location_long[4],list_location_lat[4],list_location_long[i],list_location_lat[i]))\n",
    "\n",
    "\n",
    "\n",
    "                       \n",
    "\n",
    "for i in range(0,10):\n",
    "    if i !=5:\n",
    "        location_5_location.append(length_km(list_location_long[5],list_location_lat[5],list_location_long[i],list_location_lat[i]))\n",
    "\n",
    "\n",
    "\n",
    "\n",
    "for i in range(0,10):\n",
    "    if i !=6:\n",
    "        location_6_location.append(length_km(list_location_long[6],list_location_lat[6],list_location_long[i],list_location_lat[i]))\n",
    "\n",
    "\n",
    "\n",
    "                       \n",
    "\n",
    "for i in range(0,10):\n",
    "    if i !=7:\n",
    "        location_7_location.append(length_km(list_location_long[7],list_location_lat[7],list_location_long[i],list_location_lat[i]))\n",
    "\n",
    "                       \n",
    "\n",
    "for i in range(0,10):\n",
    "    if i !=8:\n",
    "        location_8_location.append(length_km(list_location_long[8],list_location_lat[8],list_location_long[i],list_location_lat[i]))\n",
    "                       \n",
    "\n",
    "for i in range(0,10):\n",
    "    if i !=9:\n",
    "        location_9_location.append(length_km(list_location_long[9],list_location_lat[9],list_location_long[i],list_location_lat[i]))\n",
    "\n",
    "\n",
    "location_0_location = dict(zip(zero,location_0_location))\n",
    "location_1_location = dict(zip(one,location_1_location))\n",
    "location_2_location = dict(zip(two,location_2_location))\n",
    "location_3_location = dict(zip(three,location_3_location))\n",
    "location_4_location = dict(zip(four,location_4_location))\n",
    "location_5_location = dict(zip(five,location_5_location))\n",
    "location_6_location = dict(zip(six,location_6_location))\n",
    "location_7_location = dict(zip(seven,location_7_location))\n",
    "location_8_location = dict(zip(eight,location_8_location))\n",
    "location_9_location = dict(zip(nine,location_9_location))\n",
    "\n",
    "print \"dist to 0\" ,location_0_location\n",
    "print \"dist to 1\" ,location_1_location\n",
    "print \"dist to 2\" , location_2_location\n",
    "print \"dist to 3\" , location_3_location\n",
    "print \"dist to 4\" ,location_4_location\n",
    "print \"dist to 5\" , location_5_location\n",
    "print \"dist to 6\" , location_6_location \n",
    "print \" dist to 7\" , location_7_location\n",
    "print \"dist to 8 \" , location_8_location\n",
    "print \" dist to 9\" , location_9_location"
   ]
  },
  {
   "cell_type": "code",
   "execution_count": 54,
   "metadata": {
    "collapsed": true
   },
   "outputs": [],
   "source": [
    "# This function multiplies the numnber of trips that will have to be made from a plant\n",
    "# by the distance they will have to travel to the other.\n",
    "\n",
    "def mult_dicts(dict1, dict2):\n",
    "  result_dict = {} \n",
    "  for word in dict1:\n",
    "    if word in dict2:\n",
    "      result_dict[word] = dict1[word] * dict2[word]\n",
    "  return result_dict\n"
   ]
  },
  {
   "cell_type": "code",
   "execution_count": 55,
   "metadata": {
    "collapsed": true
   },
   "outputs": [],
   "source": [
    "# This function sums the transport distances to a location.\n",
    "\n",
    "def sum_dict(x): \n",
    "    result = 0.0\n",
    "    for i in x: \n",
    "        result+=x[i]\n",
    "    return result \n"
   ]
  },
  {
   "cell_type": "code",
   "execution_count": 62,
   "metadata": {
    "collapsed": true
   },
   "outputs": [],
   "source": [
    "location_0_location = {1: 193.50, 2: 224.01, 3: 113.52, 4: 93.59, 5: 89.27, 6: 59.94, 7: 42.68, 8: 76.83, 9: 127.20}\n",
    "location_1_location = {0: 193.50, 2: 165.94, 3: 130.94, 4: 284.74, 5: 259.74, 6: 152.49, 7: 230.04, 8: 245.90, 9: 270.33}\n",
    "location_2_location = {0: 224.01, 1: 165.94, 3: 111.42, 4: 308.35, 5: 231.61, 6: 227.91, 7: 234.94, 8: 222.55, 9: 210.31}\n",
    "location_3_location = {0: 113.52, 1: 130.94, 2: 111.42, 4: 202.14, 5: 142.84, 6: 119.70, 7: 131.09, 8: 130.50, 9: 142.49}\n",
    "location_4_location = {0: 93.59, 1: 284.74, 2: 308.35, 3: 202.14, 5: 99.66, 6: 136.70, 7: 73.73, 8: 99.30, 9: 147.57}\n",
    "location_5_location = {0: 89.27, 1: 259.74, 2: 231.61, 3: 142.84, 4: 99.66, 6: 148.63, 7: 49.69, 8: 14.05, 9: 48.58}\n",
    "location_6_location = {0: 59.94, 1: 152.49, 2: 227.91, 3: 119.70, 4: 136.70, 5: 148.63, 7: 102.50, 8: 135.63, 9: 182.73}\n",
    "location_7_location = {0: 42.68, 1: 230.04, 2: 234.94, 3: 131.09, 4: 73.73, 5: 49.69, 6: 102.50, 8: 39.81, 9: 94.02}\n",
    "location_8_location = {0: 76.83, 1: 245.90, 2: 222.55, 3: 130.50, 4: 99.30, 5: 14.05, 6: 135.63, 7: 39.81, 9: 54.36}\n",
    "location_9_location = {0: 127.20, 1: 270.33, 2: 210.31, 3: 142.49, 4: 147.57, 5: 48.58, 6: 182.73, 7: 94.02, 8: 54.36}"
   ]
  },
  {
   "cell_type": "code",
   "execution_count": 63,
   "metadata": {
    "collapsed": false
   },
   "outputs": [
    {
     "name": "stdout",
     "output_type": "stream",
     "text": [
      "4594463.2845\n",
      "9676349.8155\n",
      "8834026.477\n",
      "6000998.82275\n",
      "5964844.63825\n",
      "4528448.69525\n",
      "6232013.631\n",
      "4287484.9915\n",
      "4309686.72825\n",
      "5391392.2365\n"
     ]
    }
   ],
   "source": [
    "# Here I use the mult_dicts function and the sum_dict function to give me a distance value for a port.\n",
    "#I then add the closet port to give me a total distance value for a location.\n",
    "\n",
    "#location 0\n",
    "distance_traveled_to_location_0= mult_dicts(trips_1,location_0_location)\n",
    "total_distance_tavelled_to_0= sum_dict(distance_traveled_to_location_0)\n",
    "km_total_0 =  total_distance_tavelled_to_0 + float(location_0_ports_dist[2])\n",
    "\n",
    "#location 1\n",
    "distance_traveled_to_location_1= mult_dicts(trips_1,location_1_location)\n",
    "total_distance_tavelled_to_1= sum_dict(distance_traveled_to_location_1)\n",
    "km_total_1 =  total_distance_tavelled_to_1 + float(location_1_ports_dist[0])\n",
    "\n",
    "#location 2\n",
    "distance_traveled_to_location_2= mult_dicts(trips_1,location_2_location)\n",
    "total_distance_tavelled_to_2= sum_dict(distance_traveled_to_location_2)\n",
    "km_total_2 =  total_distance_tavelled_to_2 + float(location_2_ports_dist[0])\n",
    "\n",
    "#location 3 \n",
    "distance_traveled_to_location_3= mult_dicts(trips_1,location_3_location)\n",
    "total_distance_tavelled_to_3= sum_dict(distance_traveled_to_location_3)\n",
    "km_total_3 =  total_distance_tavelled_to_3 + float(location_3_ports_dist[0])\n",
    "\n",
    "#location 4\n",
    "distance_traveled_to_location_4= mult_dicts(trips_1,location_4_location)\n",
    "total_distance_tavelled_to_4= sum_dict(distance_traveled_to_location_4)\n",
    "km_total_4 =  total_distance_tavelled_to_4 + float(location_4_ports_dist[2])\n",
    "\n",
    "#loacation 5\n",
    "distance_traveled_to_location_5= mult_dicts(trips_1,location_5_location)\n",
    "total_distance_tavelled_to_5= sum_dict(distance_traveled_to_location_5)\n",
    "km_total_5 =  total_distance_tavelled_to_5 + float(location_5_ports_dist[1])\n",
    "\n",
    "#location 6\n",
    "distance_traveled_to_location_6= mult_dicts(trips_1,location_6_location)\n",
    "total_distance_tavelled_to_6= sum_dict(distance_traveled_to_location_6)\n",
    "km_total_6 =  total_distance_tavelled_to_6 + float(location_6_ports_dist[0])\n",
    "\n",
    "#location 7\n",
    "distance_traveled_to_location_7= mult_dicts(trips_1,location_7_location)\n",
    "total_distance_tavelled_to_7= sum_dict(distance_traveled_to_location_7)\n",
    "km_total_7 =  total_distance_tavelled_to_7 + float(location_7_ports_dist[2])\n",
    "\n",
    "#location 8\n",
    "distance_traveled_to_location_8= mult_dicts(trips_1,location_8_location)\n",
    "total_distance_tavelled_to_8= sum_dict(distance_traveled_to_location_8)\n",
    "km_total_8 =  total_distance_tavelled_to_8 + float(location_8_ports_dist[1])\n",
    "\n",
    "#location 9\n",
    "distance_traveled_to_location_9= mult_dicts(trips_1,location_9_location)\n",
    "total_distance_tavelled_to_9= sum_dict(distance_traveled_to_location_9)\n",
    "km_total_9 =  total_distance_tavelled_to_9 + float(location_9_ports_dist[1])\n",
    "\n",
    "print km_total_0\n",
    "print km_total_1\n",
    "print km_total_2\n",
    "print km_total_3\n",
    "print km_total_4\n",
    "print km_total_5\n",
    "print km_total_6\n",
    "print km_total_7\n",
    "print km_total_8\n",
    "print km_total_9\n",
    "\n"
   ]
  },
  {
   "cell_type": "code",
   "execution_count": 64,
   "metadata": {
    "collapsed": false
   },
   "outputs": [
    {
     "name": "stdout",
     "output_type": "stream",
     "text": [
      "4594463.2845\n",
      "9676349.8155\n",
      "8834026.477\n",
      "6000998.82275\n",
      "5964844.63825\n",
      "4528448.69525\n",
      "6232013.631\n",
      "4287484.9915\n",
      "4309686.72825\n",
      "5391392.2365\n",
      "smallest =  4287484.9915\n"
     ]
    }
   ],
   "source": [
    "H = [km_total_0,km_total_1,km_total_2,km_total_3,km_total_4,km_total_5,km_total_6,km_total_7,km_total_8,km_total_9]\n",
    "smallest = None \n",
    "for item in H:\n",
    "    print item\n",
    "    if (smallest == None) or (item < smallest):\n",
    "        smallest = item\n",
    "print \"smallest = \", smallest\n",
    "\n",
    "#There for the cheapest area to produce would be km_total_7 which has:\n",
    "# a longitude of 52.84 and a latitude of 6.92 and a total production of 159,794tonnes."
   ]
  },
  {
   "cell_type": "code",
   "execution_count": null,
   "metadata": {
    "collapsed": true
   },
   "outputs": [],
   "source": []
  }
 ],
 "metadata": {
  "kernelspec": {
   "display_name": "Python 2",
   "language": "python",
   "name": "python2"
  },
  "language_info": {
   "codemirror_mode": {
    "name": "ipython",
    "version": 2
   },
   "file_extension": ".py",
   "mimetype": "text/x-python",
   "name": "python",
   "nbconvert_exporter": "python",
   "pygments_lexer": "ipython2",
   "version": "2.7.10"
  }
 },
 "nbformat": 4,
 "nbformat_minor": 0
}
